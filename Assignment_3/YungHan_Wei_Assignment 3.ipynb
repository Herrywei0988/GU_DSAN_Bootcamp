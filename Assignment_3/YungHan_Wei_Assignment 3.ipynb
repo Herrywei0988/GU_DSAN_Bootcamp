{
 "cells": [
  {
   "cell_type": "markdown",
   "metadata": {},
   "source": [
    "# Assignment 3\n",
    "\n",
    "\n",
    "### Instructions:\n",
    "\n",
    "Assignment 3 will cover Control Flow and I/O. The overall goal of this assignment is to ensure that you are comfortable with Control Flow structures like if/else statements and for/while loops as well as how to interact with files in Python. Follow the steps below to ensure that you receive a passing grade:\n",
    "\n",
    "    - Complete the following tasks within this notebook\n",
    "    - When finished, convert this notebook to an HTML/PDF file\n",
    "    - Place the following items into a zip folder:\n",
    "        - assignment.HTML or assignment.PDF\n",
    "        - assignment.ipynb\n",
    "    - Name this folder using the naming convention: FIRSTNAME_LASTNAME_ASSIGNMENT3.zip\n",
    "        - For example, If your name was Jane Doe, then the zipped folder should be called JANE_DOE_ASSIGNMENT3.zip"
   ]
  },
  {
   "cell_type": "markdown",
   "metadata": {},
   "source": [
    "## 1. Compound-Interest Problem \n",
    "\n",
    "Let's say a person invests money in a savings account that yields interest. Assuming that the person leaves all interest on deposit in the account, your goal is to **create a function** that calculates and displays the amount of money in the account at the end of **each** year for $10$ years. Use the following formula for determining these amounts:\n",
    "\n",
    "$$ a = p(1 + r)^n $$\n",
    "\n",
    "where\n",
    "\n",
    "* $p$ is the original amount invested (i.e., the principal)\n",
    "\n",
    "* $r$ is the annual interest rate\n",
    "\n",
    "* $n$ is the number of years\n",
    "\n",
    "* $a$ is the amount on deposit at the end of the $n^{\\ th}$ year.\n",
    "\n",
    "In your function, let $r$, the annual interest rate, be a default argument set to $5\\%$\n",
    "\n",
    "Use the `round()` function to round the compound interest to the nearest cent."
   ]
  },
  {
   "cell_type": "code",
   "execution_count": 1,
   "metadata": {},
   "outputs": [
    {
     "name": "stdout",
     "output_type": "stream",
     "text": [
      "3.14\n"
     ]
    }
   ],
   "source": [
    "pi = 3.14159\n",
    "pi = round(pi,2) # round pi to 2 decimal points, then reassign to pi\n",
    "print(pi)"
   ]
  },
  {
   "cell_type": "markdown",
   "metadata": {},
   "source": [
    "*Hint:* You will have to use a `for` loop and the `range()` function. Think about what the arguments for the `range()` function should be. Should the first value in the loop be $0$ or $1$?"
   ]
  },
  {
   "cell_type": "code",
   "execution_count": 3,
   "metadata": {},
   "outputs": [
    {
     "name": "stdout",
     "output_type": "stream",
     "text": [
      "Year 1: $1050.0\n",
      "Year 2: $1102.5\n",
      "Year 3: $1157.63\n",
      "Year 4: $1215.51\n",
      "Year 5: $1276.28\n",
      "Year 6: $1340.1\n",
      "Year 7: $1407.1\n",
      "Year 8: $1477.46\n",
      "Year 9: $1551.33\n",
      "Year 10: $1628.89\n"
     ]
    }
   ],
   "source": [
    "# your function delcaration goes here\n",
    "# the first value in the loop should be 1\n",
    "\n",
    "def calculate_compound_interest(p, r=0.05):\n",
    "    for year in range(1, 11):\n",
    "        amount = p * (1 + r) ** year\n",
    "        rounded_amount = round(amount, 2)\n",
    "        print(f\"Year {year}: ${rounded_amount}\")\n",
    "\n",
    "calculate_compound_interest(1000)\n"
   ]
  },
  {
   "cell_type": "markdown",
   "metadata": {},
   "source": [
    "#### Now call your function using a  principal balance of $\\$1000$, and the default interest rate"
   ]
  },
  {
   "cell_type": "code",
   "execution_count": 2,
   "metadata": {},
   "outputs": [
    {
     "name": "stdout",
     "output_type": "stream",
     "text": [
      "Year 1: $1050.0\n",
      "Year 2: $1102.5\n",
      "Year 3: $1157.63\n",
      "Year 4: $1215.51\n",
      "Year 5: $1276.28\n",
      "Year 6: $1340.1\n",
      "Year 7: $1407.1\n",
      "Year 8: $1477.46\n",
      "Year 9: $1551.33\n",
      "Year 10: $1628.89\n"
     ]
    }
   ],
   "source": [
    "# your function call goes here\n",
    "\n",
    "def calculate_compound_interest(principal, rate=0.05, years=10):\n",
    "    for n in range(1, years + 1):\n",
    "        amount = principal * (1 + rate) ** n\n",
    "        amount = round(amount, 2)\n",
    "        print(f\"Year {n}: ${amount}\")\n",
    "\n",
    "calculate_compound_interest(1000)\n"
   ]
  },
  {
   "cell_type": "markdown",
   "metadata": {},
   "source": [
    "#### Call your function using a  principal balance of $\\$5000$, and the default interest rate"
   ]
  },
  {
   "cell_type": "code",
   "execution_count": 3,
   "metadata": {},
   "outputs": [
    {
     "name": "stdout",
     "output_type": "stream",
     "text": [
      "Year 1: $5250.0\n",
      "Year 2: $5512.5\n",
      "Year 3: $5788.13\n",
      "Year 4: $6077.53\n",
      "Year 5: $6381.41\n",
      "Year 6: $6700.48\n",
      "Year 7: $7035.5\n",
      "Year 8: $7387.28\n",
      "Year 9: $7756.64\n",
      "Year 10: $8144.47\n"
     ]
    }
   ],
   "source": [
    "# your function call goes here\n",
    "\n",
    "def calculate_compound_interest(principal, rate=0.05, years=10):\n",
    "    for n in range(1, years + 1):\n",
    "        amount = principal * (1 + rate) ** n\n",
    "        amount = round(amount, 2)\n",
    "        print(f\"Year {n}: ${amount}\")\n",
    "\n",
    "calculate_compound_interest(5000)"
   ]
  },
  {
   "cell_type": "markdown",
   "metadata": {},
   "source": [
    "#### Now call your function using a  principal balance of $\\$1000$, and an interest rate of $2\\%$"
   ]
  },
  {
   "cell_type": "code",
   "execution_count": 4,
   "metadata": {},
   "outputs": [
    {
     "name": "stdout",
     "output_type": "stream",
     "text": [
      "Year 1: $1020.0\n",
      "Year 2: $1040.4\n",
      "Year 3: $1061.21\n",
      "Year 4: $1082.43\n",
      "Year 5: $1104.08\n",
      "Year 6: $1126.16\n",
      "Year 7: $1148.69\n",
      "Year 8: $1171.66\n",
      "Year 9: $1195.09\n",
      "Year 10: $1218.99\n"
     ]
    }
   ],
   "source": [
    "# your function call goes here\n",
    "\n",
    "def calculate_compound_interest(principal, rate=0.02, years=10):\n",
    "    for n in range(1, years + 1):\n",
    "        amount = principal * (1 + rate) ** n\n",
    "        amount = round(amount, 2)\n",
    "        print(f\"Year {n}: ${amount}\")\n",
    "\n",
    "calculate_compound_interest(1000)"
   ]
  },
  {
   "cell_type": "markdown",
   "metadata": {},
   "source": [
    "#### Now call your function using a  principal balance of $\\$5000$, and an interest rate of $3\\%$"
   ]
  },
  {
   "cell_type": "code",
   "execution_count": 5,
   "metadata": {},
   "outputs": [
    {
     "name": "stdout",
     "output_type": "stream",
     "text": [
      "Year 1: $5150.0\n",
      "Year 2: $5304.5\n",
      "Year 3: $5463.64\n",
      "Year 4: $5627.54\n",
      "Year 5: $5796.37\n",
      "Year 6: $5970.26\n",
      "Year 7: $6149.37\n",
      "Year 8: $6333.85\n",
      "Year 9: $6523.87\n",
      "Year 10: $6719.58\n"
     ]
    }
   ],
   "source": [
    "# your function call goes here\n",
    "\n",
    "def calculate_compound_interest(principal, rate=0.03, years=10):\n",
    "    for n in range(1, years + 1):\n",
    "        amount = principal * (1 + rate) ** n\n",
    "        amount = round(amount, 2)\n",
    "        print(f\"Year {n}: ${amount}\")\n",
    "\n",
    "calculate_compound_interest(5000)"
   ]
  },
  {
   "cell_type": "markdown",
   "metadata": {},
   "source": [
    "## 2. Declaration of Independence Text Scraping\n",
    "\n",
    "The file `DeclarationOfIndependence.txt` contains a transcript of the entire United States Declaration of Independence from 1776. Your goal is to open the file then find and **print** the longest word that is contained within the document.\n",
    "\n",
    "*Hint:* You'll want to use the `split()` function from Week 2. Also be sure to replace all `\\n` (newline) characters with the a space using the `replace()` function."
   ]
  },
  {
   "cell_type": "code",
   "execution_count": 15,
   "metadata": {},
   "outputs": [
    {
     "name": "stdout",
     "output_type": "stream",
     "text": [
      "Longest word in the Declaration of Independence: undistinguished\n"
     ]
    }
   ],
   "source": [
    "# your code goes here\n",
    "\n",
    "# Step 1: Open and read the text file\n",
    "file_path = \"D:/Users/Herry/Downloads/assignment/assignment/DeclarationOfIndependence.txt\"\n",
    "with open(file_path, 'r') as file:\n",
    "    content = file.read()\n",
    "\n",
    "# Step 2: Replace newline characters with spaces\n",
    "content = content.replace('\\n', ' ')\n",
    "\n",
    "# Step 3: Split the content into words\n",
    "words = content.split()\n",
    "\n",
    "# Step 4: Initialize variables to track the longest word and its length\n",
    "longest_word = ''\n",
    "max_length = 0\n",
    "\n",
    "# Step 5: Iterate through the words to find the longest one\n",
    "for word in words:\n",
    "    # Remove any punctuation that might be attached to the word\n",
    "    cleaned_word = word.strip('.,;!?\"\\'()')\n",
    "    # Check if the current word is longer than the previously found longest word\n",
    "    if len(cleaned_word) > max_length:\n",
    "        max_length = len(cleaned_word)\n",
    "        longest_word = cleaned_word\n",
    "\n",
    "# Step 6: Print the longest word found\n",
    "print(\"Longest word in the Declaration of Independence:\", longest_word)\n",
    "\n"
   ]
  },
  {
   "cell_type": "markdown",
   "metadata": {},
   "source": [
    "## 3. Dracula: Text analysis \n",
    "\n",
    "**Without** the use of any external python packages, do the following;\n",
    "\n",
    "* Open the file dracula.txt \n",
    "\n",
    "* Read the file line by line and break the novel text into its individual paragraphs.  \n",
    "  * Build a python list called \"paragraphs\" whose elements are strings for each individual paragraph.\n",
    "\n",
    "  * **Paragraph definition:** \n",
    "    * For the purposes of this exercise, consider a paragraph as any chunk of text with an empty line both above and below it. \n",
    "    * The paragraph must also be NON-EMPTY (i.e. paragraph != \"\"). \n",
    "  * **Word definition** \n",
    "    * For the purposes of this exercise, consider a \"word\" to be any text with a space on the left and right\n",
    "<br /><br />\n",
    "* Only consider the text of the novel, i.e. remove the lines before and after the novel starts and finishes from your analysis. \n",
    "  * To do this only analyze between the following lines\n",
    "    * Start_line --> \"CHAPTER I\\n\"\n",
    "    * end_line --> \"THE END\\n\"\n",
    "    * Ideally, use a string comparison to find these lines, however, if you need to you can also use their line number (which is easier). \n",
    "<br /><br />\n",
    "* At the end print the following quantities\n",
    "  * Novel starts at line = \n",
    "  * Novel ends at line  =  \n",
    "  * Number of paragraphs = \n",
    "  * Average number of characters per paragraph (excluding spaces) = \n",
    "  * Average number of words per paragraph = \n",
    "\n",
    "**NOTE**: If you get stuck and cannot figure out how to proceed, then email your TA. They will provide you with a partial solution to help you move forward."
   ]
  },
  {
   "cell_type": "code",
   "execution_count": 6,
   "metadata": {},
   "outputs": [
    {
     "name": "stdout",
     "output_type": "stream",
     "text": [
      "Novel starts at line = 108\n",
      "Novel ends at line = 15428\n",
      "Number of paragraphs = 2174\n",
      "Average number of characters per paragraph (excluding spaces) = 310\n",
      "Average number of words per paragraph = 73\n"
     ]
    }
   ],
   "source": [
    "line_num = 1\n",
    "\n",
    "inside_novel = False\n",
    "beginning_of_paragraph = True\n",
    "\n",
    "paragraphs = []\n",
    "\n",
    "# READ FILE LINE BY LINE \n",
    "with open(\"D:/Users/Herry/Downloads/assignment/assignment/dracula.txt\", 'r', encoding='utf-8') as file:\n",
    "\n",
    "    # LOOP OVER LINES \n",
    "    for line in file:\n",
    "        stripped_line = line.strip()\n",
    "        \n",
    "        if stripped_line == \"CHAPTER I\" and not inside_novel:\n",
    "            start_line = line_num\n",
    "            inside_novel = True\n",
    "\n",
    "        if inside_novel:\n",
    "            if beginning_of_paragraph:\n",
    "                paragraph = \"\"\n",
    "                beginning_of_paragraph = False\n",
    "\n",
    "            if not beginning_of_paragraph:\n",
    "                # END OF PARAGRAPH\n",
    "                if stripped_line == \"\" and paragraph != \"\":\n",
    "                    beginning_of_paragraph = True\n",
    "                    paragraphs.append(paragraph)\n",
    "                else:\n",
    "                    paragraph += stripped_line + \" \"\n",
    "\n",
    "        if stripped_line == \"THE END\" and inside_novel:\n",
    "            stop_line = line_num\n",
    "            inside_novel = False\n",
    "\n",
    "        line_num += 1\n",
    "\n",
    "    # ANALYZE PARAGRAPHS\n",
    "    total_characters = 0\n",
    "    total_words = 0\n",
    "    num_paragraphs = len(paragraphs)\n",
    "    \n",
    "    for paragraph in paragraphs:\n",
    "        # NUMBER OF CHARACTERS (excluding spaces)\n",
    "        num_char = len(paragraph.replace(\" \", \"\"))\n",
    "        total_characters += num_char\n",
    "        \n",
    "        # NUMBER OF WORDS\n",
    "        num_word = len(paragraph.split())\n",
    "        total_words += num_word\n",
    "\n",
    "    # PRINT RESULTS\n",
    "    avg_characters_per_paragraph = int(total_characters / num_paragraphs) if num_paragraphs else 0\n",
    "    avg_words_per_paragraph = int(total_words / num_paragraphs) if num_paragraphs else 0\n",
    "\n",
    "    print(\"Novel starts at line =\", start_line)\n",
    "    print(\"Novel ends at line =\", stop_line)\n",
    "    print(\"Number of paragraphs =\", num_paragraphs)\n",
    "    print(\"Average number of characters per paragraph (excluding spaces) =\", avg_characters_per_paragraph)\n",
    "    print(\"Average number of words per paragraph =\", avg_words_per_paragraph)\n"
   ]
  },
  {
   "cell_type": "markdown",
   "metadata": {},
   "source": [
    "\n",
    "**OPTIONAL EXTRA CREDIT** \n",
    "  * Repeat the exercise, but for sentences instead of paragraphs\n",
    "\n",
    "  * That is, build a python list called \"sentences\" which contain each sentence in the novel \n",
    "  * Then repeat the analysis (output the numbers of sentence, and the average number of words and characters per sentence)\n",
    "  * **Sentence definition**: \n",
    "    * For the purposes of this exercise, consider a sentence to be any chunk of text that is longer than 50 characters AND starts with the following substring \". X\", where X is any upper-case letter.\n",
    "    * OR any stand alone line or text, for example, \"JONATHAN HARKER'S JOURNAL\"\n"
   ]
  },
  {
   "cell_type": "code",
   "execution_count": 7,
   "metadata": {},
   "outputs": [
    {
     "name": "stdout",
     "output_type": "stream",
     "text": [
      "* Number of sentences = 6122\n",
      "* Average number of characters per sentences (excluding spaces) = 97.1765762822607\n",
      "* Average number of words per sentences = 24.815419797451813\n"
     ]
    }
   ],
   "source": [
    "capitals=\"abcdefghijklmnopqrstuvwxyz\".upper()\n",
    "sentences=[]\n",
    "temp_sentence_builder = ''\n",
    "# your optional code goes here\n",
    "\n",
    "# go through all the paragraphs to break them down into sentences\n",
    "for each_paragraph in paragraphs:\n",
    "    # if there's no period within the paragraph then its a standalone line or text and therefore it counts as a sentence \n",
    "    if '. ' not in each_paragraph:\n",
    "        sentences.append(each_paragraph)\n",
    "    else:\n",
    "        # break apart any paragraphs that have sentences in them as defined by periods and capital letters and 50 length\n",
    "        # replace new lines to make the text more readable\n",
    "        each_paragraph.replace('\\n', ' ')\n",
    "        # split the paragraph by finding all the periods following by a space\n",
    "        potential_sentences = each_paragraph.split('. ')\n",
    "        # remove any empty strings from the list of potential sentences \n",
    "        potential_sentences = [i for i in potential_sentences if i.strip() != '']\n",
    "        # walk through all the potential sentences \n",
    "        for each_sentence in potential_sentences:\n",
    "            # add back the period which was removed after splitting the string\n",
    "            each_sentence += '. '\n",
    "            # compile the sentence with the ongoing sentence builder string\n",
    "            temp_sentence_builder += each_sentence\n",
    "            # if the sentence is not yet 50 characters, then keep compiling the next line until the sentence reaches that length\n",
    "            if len(temp_sentence_builder) < 50:\n",
    "                continue\n",
    "            else:\n",
    "                # only add it as a sentence if it belongs with a capital letter. if not then don't add to sentences list\n",
    "                if temp_sentence_builder[0] in capitals:\n",
    "                    sentences.append(temp_sentence_builder)\n",
    "                # reset the sentence builder string\n",
    "                temp_sentence_builder = '' \n",
    "                \n",
    "# create a list of the char length of every paragraph so that we can grab the average later\n",
    "num_chars_each_sentence = [len(i.replace(' ', '')) for i in sentences]\n",
    "# create a list of the word length of every paragraph so that we can grab the average later\n",
    "num_words_each_sentence = [len(i.split(' ')) for i in sentences]\n",
    "            \n",
    "# at the end print the following quantities\n",
    "print(f\"* Number of sentences = {len(sentences)}\")\n",
    "print(f\"* Average number of characters per sentences (excluding spaces) = {sum(num_chars_each_sentence)/len(num_chars_each_sentence)}\")\n",
    "print(f\"* Average number of words per sentences = {sum(num_words_each_sentence)/len(num_words_each_sentence)}\")"
   ]
  }
 ],
 "metadata": {
  "interpreter": {
   "hash": "855d0e5e3014face4a7c77ef0d00c0f0d4790db1d0a64e73ac3b23cda8e76110"
  },
  "kernelspec": {
   "display_name": "Python 3 (ipykernel)",
   "language": "python",
   "name": "python3"
  },
  "language_info": {
   "codemirror_mode": {
    "name": "ipython",
    "version": 3
   },
   "file_extension": ".py",
   "mimetype": "text/x-python",
   "name": "python",
   "nbconvert_exporter": "python",
   "pygments_lexer": "ipython3",
   "version": "3.9.13"
  }
 },
 "nbformat": 4,
 "nbformat_minor": 4
}
