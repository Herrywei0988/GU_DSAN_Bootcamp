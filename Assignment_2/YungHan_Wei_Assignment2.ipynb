{
 "cells": [
  {
   "cell_type": "markdown",
   "metadata": {},
   "source": [
    "# Assignment 2\n",
    "\n",
    "### Instructions:\n",
    "\n",
    "Assignment 2 will cover Python's Built-in Data Types and Built-in Data Structures. The overall goal of this assignment is to ensure that you are comfortable with the syntax and commonly-used objects and structures within Python. There are 2 parts to this assignment. For the first part, you will be answering questions and solving problems within this notebook, the second part requires you to modify a `.py` file that will be run within this notebook for simplicity. Follow the steps below to ensure that you receive a passing grade:\n",
    "\n",
    "    - Complete the following tasks within this notebook\n",
    "    - Modify the .py file to work as the assignment dictates\n",
    "    - When finished, convert this notebook to an HTML/PDF file\n",
    "    - Place the following items into a zip folder:\n",
    "        - Assignment.HTML or Assignment.PDF\n",
    "        - Assignment.ipynb\n",
    "        - Assignment.py\n",
    "    - Name this folder using the naming convention: FIRSTNAME_LASTNAME_ASSIGNMENT2.zip\n",
    "        - For example, If your name was Jane Doe, then the zipped folder should be called JANE_DOE_ASSIGNMENT2.zip\n"
   ]
  },
  {
   "cell_type": "markdown",
   "metadata": {},
   "source": [
    "## Part 1"
   ]
  },
  {
   "cell_type": "markdown",
   "metadata": {},
   "source": [
    "#### The following chunk of code has an error. Correct the mistake and explain why using comments or markdown."
   ]
  },
  {
   "cell_type": "code",
   "execution_count": 1,
   "metadata": {
    "scrolled": true
   },
   "outputs": [
    {
     "name": "stdout",
     "output_type": "stream",
     "text": [
      "23\n"
     ]
    }
   ],
   "source": [
    "myint = 23  # The variable name is now lowercase to match the print statement\n",
    "\n",
    "print(myint)"
   ]
  },
  {
   "cell_type": "markdown",
   "metadata": {},
   "source": [
    "*Your explanation goes here*"
   ]
  },
  {
   "cell_type": "markdown",
   "metadata": {},
   "source": [
    "#### The following arithmetic statement returns `24.0`. Use *only* parentheses to group these operations such that it returns `32.0`"
   ]
  },
  {
   "cell_type": "code",
   "execution_count": 15,
   "metadata": {},
   "outputs": [
    {
     "data": {
      "text/plain": [
       "24.0"
      ]
     },
     "execution_count": 15,
     "metadata": {},
     "output_type": "execute_result"
    }
   ],
   "source": [
    "20 + 24 / 4 - 2"
   ]
  },
  {
   "cell_type": "code",
   "execution_count": 9,
   "metadata": {},
   "outputs": [
    {
     "data": {
      "text/plain": [
       "32.0"
      ]
     },
     "execution_count": 9,
     "metadata": {},
     "output_type": "execute_result"
    }
   ],
   "source": [
    "# your code goes here\n",
    "\n",
    "20 + (24 / (4 - 2))\n",
    "\n"
   ]
  },
  {
   "cell_type": "markdown",
   "metadata": {},
   "source": [
    "#### Cast `output` as a floating point value"
   ]
  },
  {
   "cell_type": "code",
   "execution_count": 10,
   "metadata": {},
   "outputs": [
    {
     "name": "stdout",
     "output_type": "stream",
     "text": [
      "x =  59.0\n",
      "type =  <class 'float'>\n"
     ]
    }
   ],
   "source": [
    "# x = 30\n",
    "# y = 29\n",
    "# output = x + y\n",
    "\n",
    "# your code goes here\n",
    "\n",
    "# print(\"x = \",output)\n",
    "# print(\"type = \",type(output))\n",
    "\n",
    "x = 30\n",
    "y = 29\n",
    "output = float(x + y)  # Cast the sum to a floating point value\n",
    "\n",
    "print(\"x = \", output)\n",
    "print(\"type = \", type(output))  \n"
   ]
  },
  {
   "cell_type": "markdown",
   "metadata": {},
   "source": [
    "#### Calculate the square root of `23` and divide by `2` using floor division and print it. Also print what data type the number is."
   ]
  },
  {
   "cell_type": "code",
   "execution_count": 14,
   "metadata": {},
   "outputs": [
    {
     "name": "stdout",
     "output_type": "stream",
     "text": [
      "Result: 2.0\n",
      "Type: <class 'float'>\n"
     ]
    }
   ],
   "source": [
    "# your code goes here\n",
    "\n",
    "# Calculate the square root of 23\n",
    "sqrt_23 = math.sqrt(23)\n",
    "\n",
    "# Divide by 2 using floor division\n",
    "result = sqrt_23 // 2\n",
    "\n",
    "# Print the result\n",
    "print(\"Result:\", result)\n",
    "\n",
    "# Print the type of the result\n",
    "print(\"Type:\", type(result))\n"
   ]
  },
  {
   "cell_type": "markdown",
   "metadata": {},
   "source": [
    "#### Create a print statement that returns the exact phrase `This 'is' a \"sample\" sentence.`"
   ]
  },
  {
   "cell_type": "code",
   "execution_count": 18,
   "metadata": {},
   "outputs": [
    {
     "name": "stdout",
     "output_type": "stream",
     "text": [
      "This 'is' a \"sample\" sentence.\n"
     ]
    }
   ],
   "source": [
    "# your code goes here\n",
    "\n",
    "print('This \\'is\\' a \"sample\" sentence.')\n"
   ]
  },
  {
   "cell_type": "markdown",
   "metadata": {},
   "source": [
    "#### The following sentence has the word `brown` repeated. Fix this typo using string slicing and concatenation. Then print the new string."
   ]
  },
  {
   "cell_type": "code",
   "execution_count": 20,
   "metadata": {},
   "outputs": [
    {
     "name": "stdout",
     "output_type": "stream",
     "text": [
      "The quick brown fox jumps over the lazy dog\n"
     ]
    }
   ],
   "source": [
    "myString = \"The quick brown brown fox jumps over the lazy dog\"\n",
    "\n",
    "# your code goes here\n",
    "\n",
    "first_brown = myString.find('brown')\n",
    "\n",
    "# Calculate the index of the second occurrence by adding the length of the word 'brown' and a space\n",
    "second_brown = first_brown + len('brown ')\n",
    "\n",
    "# Remove the second occurrence of the word 'brown' using string slicing and concatenation\n",
    "corrected_string = myString[:second_brown_index] + myString[second_brown_index + len('brown '):]\n",
    "\n",
    "# The corrected string\n",
    "print(corrected_string)"
   ]
  },
  {
   "cell_type": "markdown",
   "metadata": {},
   "source": [
    "#### Use what you've learned about lists to remove all the foods from this list, then print it"
   ]
  },
  {
   "cell_type": "code",
   "execution_count": 22,
   "metadata": {},
   "outputs": [
    {
     "name": "stdout",
     "output_type": "stream",
     "text": [
      "['car', 'mountain', 'planet']\n"
     ]
    }
   ],
   "source": [
    "myList = [\"car\", \"apple\", \"mountain\", \"banana\", \"planet\"]\n",
    "\n",
    "# your code goes here\n",
    "\n",
    "myList.remove(\"apple\")\n",
    "myList.remove(\"banana\")\n",
    "\n",
    "print(myList)"
   ]
  },
  {
   "cell_type": "markdown",
   "metadata": {},
   "source": [
    "#### Why does this code raise an error?"
   ]
  },
  {
   "cell_type": "code",
   "execution_count": 27,
   "metadata": {
    "scrolled": true
   },
   "outputs": [
    {
     "name": "stdout",
     "output_type": "stream",
     "text": [
      "{'home', ('racecar', 'sayonara'), 'carousel'}\n"
     ]
    }
   ],
   "source": [
    "myList = [\"racecar\", \"sayonara\"]\n",
    "\n",
    "myTuple = tuple(myList)\n",
    "\n",
    "mySet = {\"carousel\", myTuple, \"home\"}\n",
    "\n",
    "print(mySet)\n"
   ]
  },
  {
   "cell_type": "markdown",
   "metadata": {},
   "source": [
    "*Your Answer Goes Here*"
   ]
  },
  {
   "cell_type": "markdown",
   "metadata": {},
   "source": [
    "#### Count how many unique characters are in the following string and print it."
   ]
  },
  {
   "cell_type": "code",
   "execution_count": 30,
   "metadata": {},
   "outputs": [
    {
     "name": "stdout",
     "output_type": "stream",
     "text": [
      "Number of unique characters: 21\n"
     ]
    }
   ],
   "source": [
    "myString = \"\"\"\\\n",
    "Lorem ipsum dolor sit amet, consectetur adipiscing elit, \\\n",
    "sed do eiusmod tempor incididunt ut labore et dolore magna aliqua. \\\n",
    "Ut enim ad minim veniam, quis nostrud exercitation ullamco laboris nisi \\\n",
    "ut aliquip ex ea commodo consequat. Duis aute irure dolor in reprehenderit \\\n",
    "in voluptate velit esse cillum dolore eu fugiat nulla pariatur. \\\n",
    "Excepteur sint occaecat cupidatat non proident, \\\n",
    "sunt in culpa qui officia deserunt mollit anim id est laborum. \\\n",
    "\"\"\"\n",
    "\n",
    "\n",
    "# your code goes here\n",
    "\n",
    "unique_characters = set(characters)\n",
    "\n",
    "num_unique_characters = len(unique_characters)\n",
    "\n",
    "print(\"Number of unique characters:\", num_unique_characters)"
   ]
  },
  {
   "cell_type": "markdown",
   "metadata": {},
   "source": [
    "#### Which of the following built-in data structures are immutable?\n",
    "\n",
    "    A. Lists\n",
    "    B. Tuples\n",
    "    C. Sets\n",
    "    D. Dictionaries"
   ]
  },
  {
   "cell_type": "markdown",
   "metadata": {},
   "source": [
    "*Your Answer Goes Here*"
   ]
  },
  {
   "cell_type": "code",
   "execution_count": null,
   "metadata": {},
   "outputs": [],
   "source": [
    "# B. Tuples"
   ]
  },
  {
   "cell_type": "markdown",
   "metadata": {},
   "source": [
    "**In your own words (i.e. don't copy from the lecture notebook), describe the following concepts in detail**\n",
    "* **Classes**: *Your Answer Goes Here* \n",
    "* **Objects**: *Your Answer Goes Here*\n",
    "* **Methods**:  *Your Answer Goes Here* \n",
    "* **Attributes**:  *Your Answer Goes Here*"
   ]
  },
  {
   "cell_type": "markdown",
   "metadata": {},
   "source": [
    "*Your Answer Goes Here*"
   ]
  },
  {
   "cell_type": "code",
   "execution_count": 1,
   "metadata": {},
   "outputs": [],
   "source": [
    "# Classes: It's a class outlines the structure of an object, \n",
    "# including the data it should contain and the actions it can perform. It’s a template from which objects are created.\n",
    "\n",
    "# Objects: Objects are the fundamental building blocks of OOP, and they interact with each other through methods.\n",
    "\n",
    "# Methods: The functions that are defined within a class and can be called on its objects.\n",
    "\n",
    "# Attributes: The characteristics which represent the state or properties of an object."
   ]
  },
  {
   "cell_type": "markdown",
   "metadata": {},
   "source": [
    "## Part 2\n",
    "\n",
    "\n",
    "This part will require you to modify `Assignment.py` file. Perform all tasks in Part 2 in the `.py` file and run the code within this notebook."
   ]
  },
  {
   "cell_type": "markdown",
   "metadata": {},
   "source": [
    "\n",
    "#### A.\n",
    "\n",
    "Create code that asks the user for:\n",
    "\n",
    "    - Their Name\n",
    "    - The Current Year\n",
    "    - Their Hair Color\n",
    "    - The Year They Were Born\n",
    "\n",
    "Put these results into a dictionary and print the dictionary\n",
    "\n",
    "Then calculate how old the user will be this year and add it to a new entry into the dictionary using a key named `age`\n",
    "\n",
    "\n",
    "Print the dictionary again\n",
    "\n",
    "print the following using only the dictionary and its keys:\n",
    "\n",
    "    -\"Hello {The input name}, you have {the input hair color}.\"\n",
    "    -\"The current year is {The input current year}.\"\n",
    "    -\"You were born in {the input birth year}\"\n",
    "    -\"This means you will be {calculated age} years old this year\"\n",
    "\n",
    "\n",
    "\n",
    "#### B.\n",
    "\n",
    "The area of a triangle can be computed using the following formula\n",
    "\n",
    "$$ a = \\frac{1}{2} b \\times h$$\n",
    "\n",
    "where $b$ is the length of the base of the triangle, and $h$ is its height. Write code that asks the user to enter values for $b$ and $h$. The code should then compute and display the area of a triangle with base length $b$ and height $h$. The information displayed to the console should look like this:\n",
    "\n",
    "\n",
    "    -\"Input Height: \"\n",
    "    -\"Input Base: \"\n",
    "    -\"The area of the triangle is: {calculated area} \"\n",
    "\n",
    "\n",
    "\n",
    "#### C. \n",
    "\n",
    "Create code that asks the user for two numbers, separated by a space. Split this input on a space character. Using the `type()` function, confirm that this split string object is a `list`. With this information, extract the values from that list, print their sum, and use a comparison operator to print whether the sum of these two numbers is greater than 10. The information displayed to the console should look like this:\n",
    "\n",
    "\n",
    "    -\"Input two numbers, separated by a space: \"\n",
    "    -\"The sum of these two numbers is: {sum of numbers}\"\n",
    "    -\"Is the sum greater than 10? : {True/False}\"\n"
   ]
  },
  {
   "cell_type": "markdown",
   "metadata": {},
   "source": [
    "##### Run the cell below when you have finished modifying the python file"
   ]
  },
  {
   "cell_type": "code",
   "execution_count": 40,
   "metadata": {},
   "outputs": [],
   "source": [
    "run Assignment.py"
   ]
  },
  {
   "cell_type": "code",
   "execution_count": 1,
   "metadata": {},
   "outputs": [
    {
     "name": "stdout",
     "output_type": "stream",
     "text": [
      "What is your name? Herry\n",
      "What is the current year? 2024\n",
      "What is your hair color? Black\n",
      "What year were you born? 2000\n",
      "Hello Herry, you have Black hair.\n",
      "The current year is 2024.\n",
      "You were born in 2000.\n",
      "This means you will be 24 years old this year.\n"
     ]
    }
   ],
   "source": [
    "name = input(\"What is your name? \")\n",
    "current_year = int(input(\"What is the current year? \"))\n",
    "hair_color = input(\"What is your hair color? \")\n",
    "birth_year = int(input(\"What year were you born? \"))\n",
    "\n",
    "user_info = {\n",
    "    \"name\": name,\n",
    "    \"current_year\": current_year,\n",
    "    \"hair_color\": hair_color,\n",
    "    \"birth_year\": birth_year\n",
    "}\n",
    "\n",
    "age = current_year - birth_year\n",
    "\n",
    "user_info[\"age\"] = age\n",
    "\n",
    "print(f\"Hello {user_info['name']}, you have {user_info['hair_color']} hair.\")\n",
    "print(f\"The current year is {user_info['current_year']}.\")\n",
    "print(f\"You were born in {user_info['birth_year']}.\")\n",
    "print(f\"This means you will be {user_info['age']} years old this year.\")"
   ]
  },
  {
   "cell_type": "code",
   "execution_count": 2,
   "metadata": {},
   "outputs": [
    {
     "name": "stdout",
     "output_type": "stream",
     "text": [
      "Input Base: 5\n",
      "Input Height: 6\n",
      "The area of the triangle is: 15.0\n"
     ]
    }
   ],
   "source": [
    "base = float(input(\"Input Base: \"))\n",
    "\n",
    "height = float(input(\"Input Height: \"))\n",
    "\n",
    "area = 0.5 * base * height\n",
    "\n",
    "print(f\"The area of the triangle is: {area}\")\n"
   ]
  },
  {
   "cell_type": "code",
   "execution_count": 2,
   "metadata": {},
   "outputs": [
    {
     "name": "stdout",
     "output_type": "stream",
     "text": [
      "Input two numbers, separated by a space: 2 5\n",
      "The type of the split input is: <class 'list'>\n",
      "The sum of these two numbers is: 7.0\n",
      "Is the sum greater than 10? : False\n"
     ]
    }
   ],
   "source": [
    "input_str = input(\"Input two numbers, separated by a space: \")\n",
    "\n",
    "numbers_list = input_str.split()\n",
    "\n",
    "print(f\"The type of the split input is: {type(numbers_list)}\")\n",
    "\n",
    "\n",
    "num1 = float(numbers_list[0])\n",
    "num2 = float(numbers_list[1])\n",
    "\n",
    "sum_of_numbers = num1 + num2\n",
    "\n",
    "print(f\"The sum of these two numbers is: {sum_of_numbers}\")\n",
    "\n",
    "is_greater_than_10 = sum_of_numbers > 10\n",
    "print(f\"Is the sum greater than 10? : {is_greater_than_10}\")\n"
   ]
  }
 ],
 "metadata": {
  "kernelspec": {
   "display_name": "Python 3 (ipykernel)",
   "language": "python",
   "name": "python3"
  },
  "language_info": {
   "codemirror_mode": {
    "name": "ipython",
    "version": 3
   },
   "file_extension": ".py",
   "mimetype": "text/x-python",
   "name": "python",
   "nbconvert_exporter": "python",
   "pygments_lexer": "ipython3",
   "version": "3.9.13"
  }
 },
 "nbformat": 4,
 "nbformat_minor": 4
}
