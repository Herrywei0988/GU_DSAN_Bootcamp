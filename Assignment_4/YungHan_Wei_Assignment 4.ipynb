{
 "cells": [
  {
   "cell_type": "markdown",
   "metadata": {},
   "source": [
    "# Assignment 4\n",
    "\n",
    "### Instructions:\n",
    "\n",
    "Assignment 4 will cover the NumPy and Pandas packages. The overall goal of this assignment is to ensure that you are comfortable with the NumPy and Pandas packages. Follow the steps below to ensure that you receive a passing grade:\n",
    "\n",
    "    - Complete the following tasks within this notebook\n",
    "    - When finished, convert this notebook to an HTML/PDF file\n",
    "    - Place the following items into a zip folder:\n",
    "        - assignment.HTML or assignment.PDF\n",
    "        - assignment.ipynb\n",
    "        - assignment.csv\n",
    "    - Name this folder using the naming convention: FIRSTNAME_LASTNAME_ASSIGNMENT4.zip\n",
    "        - For example, if your name was Jane Doe, then the zipped folder should be called JANE_DOE_ASSIGNMENT4.zip\n",
    " "
   ]
  },
  {
   "cell_type": "code",
   "execution_count": 1,
   "metadata": {},
   "outputs": [],
   "source": [
    "# import packages\n",
    "import numpy as np\n",
    "import pandas as pd"
   ]
  },
  {
   "cell_type": "markdown",
   "metadata": {},
   "source": [
    "## 1. Manipulate an Array\n",
    "\n",
    "Without using the `np.array()` function, manipulate (in any way you choose) a $2 \\times 6$ array of zeros, to match the final $4 \\times 3$ array shown below.\n",
    "\n",
    "$$start \\rightarrow \\begin{bmatrix}\n",
    "0 & 0 & 0 & 0 & 0 & 0\\\\\n",
    "0 & 0 & 0 & 0 & 0 & 0\n",
    "\\end{bmatrix} \\rightarrow \\text{manipulate} \\rightarrow\n",
    "\\begin{bmatrix}\n",
    "12 & 11 & 10\\\\\n",
    "9 & 8 & 7\\\\\n",
    "10 & 10 & 10\\\\\n",
    "3 & 2 & 1\\\\\n",
    "\\end{bmatrix}$$"
   ]
  },
  {
   "cell_type": "code",
   "execution_count": 6,
   "metadata": {},
   "outputs": [
    {
     "name": "stdout",
     "output_type": "stream",
     "text": [
      "[[12. 11. 10.]\n",
      " [ 9.  8.  7.]\n",
      " [10. 10. 10.]\n",
      " [ 3.  2.  1.]]\n"
     ]
    }
   ],
   "source": [
    "target = np.zeros(shape = (2,6))\n",
    "\n",
    "# your code goes here\n",
    "\n",
    "target = target.reshape((4, 3))\n",
    "\n",
    "# Manually fill in the desired values\n",
    "target[0] = [12, 11, 10]\n",
    "target[1] = [9, 8, 7]\n",
    "target[2] = [10, 10, 10]\n",
    "target[3] = [3, 2, 1]\n",
    "\n",
    "print(target)"
   ]
  },
  {
   "cell_type": "markdown",
   "metadata": {},
   "source": [
    "## 2. Create a DataFrame and Clean\n",
    "\n",
    "**A. Create a `DataFrame` using the `pd.DataFrame()` function that is identical to the table below. Remember to use `np.nan` to signify missing values.**\n",
    "\n",
    "| name | gender | weight_kg | height_cm \n",
    "| --- | --- | --- | --- |\n",
    "| Jacinda | F | 55.51 | **NaN**\n",
    "| Oralla | M | 60.4 |162.79\n",
    "| Aeriell | F | **NaN** | 162.32\n",
    "| Portie | X | 73.94 | 160.33\n",
    "| Ferdinanda | F | 60.62 | 146.68\n"
   ]
  },
  {
   "cell_type": "code",
   "execution_count": 8,
   "metadata": {
    "scrolled": true
   },
   "outputs": [
    {
     "name": "stdout",
     "output_type": "stream",
     "text": [
      "         name gender  weight_kg  height_cm\n",
      "0     Jacinda      F      55.51        NaN\n",
      "1      Oralla      M      60.40     162.79\n",
      "2     Aeriell      F        NaN     162.32\n",
      "3      Portie      X      73.94     160.33\n",
      "4  Ferdinanda      F      60.62     146.68\n"
     ]
    }
   ],
   "source": [
    "# your code goes here\n",
    "\n",
    "# Create the DataFrame\n",
    "data = {\n",
    "    'name': ['Jacinda', 'Oralla', 'Aeriell', 'Portie', 'Ferdinanda'],\n",
    "    'gender': ['F', 'M', 'F', 'X', 'F'],\n",
    "    'weight_kg': [55.51, 60.4, np.nan, 73.94, 60.62],\n",
    "    'height_cm': [np.nan, 162.79, 162.32, 160.33, 146.68]\n",
    "}\n",
    "\n",
    "df = pd.DataFrame(data)\n",
    "\n",
    "print(df)\n"
   ]
  },
  {
   "cell_type": "markdown",
   "metadata": {},
   "source": [
    "**B. Replace the missing value in the `weight_kg` column with the mean weight across the `weight_kg` column**"
   ]
  },
  {
   "cell_type": "code",
   "execution_count": 9,
   "metadata": {},
   "outputs": [
    {
     "name": "stdout",
     "output_type": "stream",
     "text": [
      "         name gender  weight_kg  height_cm\n",
      "0     Jacinda      F    55.5100        NaN\n",
      "1      Oralla      M    60.4000     162.79\n",
      "2     Aeriell      F    62.6175     162.32\n",
      "3      Portie      X    73.9400     160.33\n",
      "4  Ferdinanda      F    60.6200     146.68\n"
     ]
    }
   ],
   "source": [
    "# your code goes here\n",
    "\n",
    "data = {\n",
    "    'name': ['Jacinda', 'Oralla', 'Aeriell', 'Portie', 'Ferdinanda'],\n",
    "    'gender': ['F', 'M', 'F', 'X', 'F'],\n",
    "    'weight_kg': [55.51, 60.4, np.nan, 73.94, 60.62],\n",
    "    'height_cm': [np.nan, 162.79, 162.32, 160.33, 146.68]\n",
    "}\n",
    "\n",
    "df = pd.DataFrame(data)\n",
    "\n",
    "# Calculate the mean weight, excluding NaN values\n",
    "mean_weight = df['weight_kg'].mean()\n",
    "\n",
    "# Replace the missing value in the weight_kg column with the mean weight\n",
    "df['weight_kg'].fillna(mean_weight, inplace=True)\n",
    "\n",
    "print(df)\n"
   ]
  },
  {
   "cell_type": "markdown",
   "metadata": {},
   "source": [
    "**C. Replace the missing value in the `height_cm` column with the maximum of the heights across the `height_cm` column**"
   ]
  },
  {
   "cell_type": "code",
   "execution_count": 13,
   "metadata": {},
   "outputs": [
    {
     "name": "stdout",
     "output_type": "stream",
     "text": [
      "         name gender  weight_kg  height_cm\n",
      "0     Jacinda      F      55.51     162.79\n",
      "1      Oralla      M      60.40     162.79\n",
      "2     Aeriell      F        NaN     162.32\n",
      "3      Portie      X      73.94     160.33\n",
      "4  Ferdinanda      F      60.62     146.68\n"
     ]
    }
   ],
   "source": [
    "# your code goes here\n",
    "\n",
    "data = {\n",
    "    'name': ['Jacinda', 'Oralla', 'Aeriell', 'Portie', 'Ferdinanda'],\n",
    "    'gender': ['F', 'M', 'F', 'X', 'F'],\n",
    "    'weight_kg': [55.51, 60.4, np.nan, 73.94, 60.62],\n",
    "    'height_cm': [np.nan, 162.79, 162.32, 160.33, 146.68]\n",
    "}\n",
    "\n",
    "df = pd.DataFrame(data)\n",
    "\n",
    "# Calculate the maximum height, excluding NaN values\n",
    "max_height = df['height_cm'].max()\n",
    "\n",
    "# Replace the missing value in the height_cm column with the maximum height\n",
    "df['height_cm'].fillna(max_height, inplace=True)\n",
    "\n",
    "print(df)\n"
   ]
  },
  {
   "cell_type": "markdown",
   "metadata": {},
   "source": [
    "**D. Replace the `X` value in the `gender` column with the mode of the `gender` column**"
   ]
  },
  {
   "cell_type": "code",
   "execution_count": 14,
   "metadata": {},
   "outputs": [
    {
     "name": "stdout",
     "output_type": "stream",
     "text": [
      "         name gender  weight_kg  height_cm\n",
      "0     Jacinda      F      55.51        NaN\n",
      "1      Oralla      M      60.40     162.79\n",
      "2     Aeriell      F        NaN     162.32\n",
      "3      Portie      F      73.94     160.33\n",
      "4  Ferdinanda      F      60.62     146.68\n"
     ]
    }
   ],
   "source": [
    "# your code goes here\n",
    "\n",
    "data = {\n",
    "    'name': ['Jacinda', 'Oralla', 'Aeriell', 'Portie', 'Ferdinanda'],\n",
    "    'gender': ['F', 'M', 'F', 'X', 'F'],\n",
    "    'weight_kg': [55.51, 60.4, np.nan, 73.94, 60.62],\n",
    "    'height_cm': [np.nan, 162.79, 162.32, 160.33, 146.68]\n",
    "}\n",
    "\n",
    "df = pd.DataFrame(data)\n",
    "\n",
    "# Calculate the mode of the gender column\n",
    "mode_gender = df['gender'].mode()[0]\n",
    "\n",
    "# Replace the 'X' value in the gender column with the mode gender\n",
    "df['gender'] = df['gender'].replace('X', mode_gender)\n",
    "\n",
    "print(df)"
   ]
  },
  {
   "cell_type": "markdown",
   "metadata": {},
   "source": [
    "**E. Print the cleaned DataFrame**"
   ]
  },
  {
   "cell_type": "code",
   "execution_count": 12,
   "metadata": {},
   "outputs": [
    {
     "name": "stdout",
     "output_type": "stream",
     "text": [
      "         name gender  weight_kg  height_cm\n",
      "0     Jacinda      F    55.5100     162.79\n",
      "1      Oralla      M    60.4000     162.79\n",
      "2     Aeriell      F    62.6175     162.32\n",
      "3      Portie      F    73.9400     160.33\n",
      "4  Ferdinanda      F    60.6200     146.68\n"
     ]
    }
   ],
   "source": [
    "# your code goes here\n",
    "\n",
    "data = {\n",
    "    'name': ['Jacinda', 'Oralla', 'Aeriell', 'Portie', 'Ferdinanda'],\n",
    "    'gender': ['F', 'M', 'F', 'X', 'F'],\n",
    "    'weight_kg': [55.51, 60.4, np.nan, 73.94, 60.62],\n",
    "    'height_cm': [np.nan, 162.79, 162.32, 160.33, 146.68]\n",
    "}\n",
    "\n",
    "df = pd.DataFrame(data)\n",
    "\n",
    "# Calculate the mean weight, excluding NaN values\n",
    "mean_weight = df['weight_kg'].mean()\n",
    "\n",
    "# Replace the missing value in the weight_kg column with the mean weight\n",
    "df['weight_kg'].fillna(mean_weight, inplace=True)\n",
    "\n",
    "# Calculate the maximum height, excluding NaN values\n",
    "max_height = df['height_cm'].max()\n",
    "\n",
    "# Replace the missing value in the height_cm column with the maximum height\n",
    "df['height_cm'].fillna(max_height, inplace=True)\n",
    "\n",
    "# Calculate the mode of the gender column\n",
    "mode_gender = df['gender'].mode()[0]\n",
    "\n",
    "# Replace the 'X' value in the gender column with the mode gender\n",
    "df['gender'] = df['gender'].replace('X', mode_gender)\n",
    "\n",
    "# Print the cleaned DataFrame\n",
    "print(df)"
   ]
  },
  {
   "cell_type": "markdown",
   "metadata": {},
   "source": [
    "## 3. DataFrame Manipulation\n",
    "\n",
    "Let's load in the `exercise` dataset from the `seaborn` package."
   ]
  },
  {
   "cell_type": "code",
   "execution_count": 4,
   "metadata": {
    "scrolled": false
   },
   "outputs": [
    {
     "name": "stdout",
     "output_type": "stream",
     "text": [
      "    Unnamed: 0  id     diet  pulse    time     kind\n",
      "0            0   1  low fat     85   1 min     rest\n",
      "1            1   1  low fat     85  15 min     rest\n",
      "2            2   1  low fat     88  30 min     rest\n",
      "3            3   2  low fat     90   1 min     rest\n",
      "4            4   2  low fat     92  15 min     rest\n",
      "..         ...  ..      ...    ...     ...      ...\n",
      "85          85  29   no fat    135  15 min  running\n",
      "86          86  29   no fat    130  30 min  running\n",
      "87          87  30   no fat     99   1 min  running\n",
      "88          88  30   no fat    111  15 min  running\n",
      "89          89  30   no fat    150  30 min  running\n",
      "\n",
      "[90 rows x 6 columns]\n"
     ]
    }
   ],
   "source": [
    "import seaborn as sns\n",
    "exercise = sns.load_dataset(\"exercise\") # this requries an internet connection\n",
    "print(exercise)"
   ]
  },
  {
   "cell_type": "markdown",
   "metadata": {},
   "source": [
    "### Perform the following tasks on the DataFrame:"
   ]
  },
  {
   "cell_type": "markdown",
   "metadata": {},
   "source": [
    "**A. Remove the unnamed column from the DataFrame**"
   ]
  },
  {
   "cell_type": "code",
   "execution_count": 5,
   "metadata": {},
   "outputs": [
    {
     "name": "stdout",
     "output_type": "stream",
     "text": [
      "    id     diet  pulse    time     kind\n",
      "0    1  low fat     85   1 min     rest\n",
      "1    1  low fat     85  15 min     rest\n",
      "2    1  low fat     88  30 min     rest\n",
      "3    2  low fat     90   1 min     rest\n",
      "4    2  low fat     92  15 min     rest\n",
      "..  ..      ...    ...     ...      ...\n",
      "85  29   no fat    135  15 min  running\n",
      "86  29   no fat    130  30 min  running\n",
      "87  30   no fat     99   1 min  running\n",
      "88  30   no fat    111  15 min  running\n",
      "89  30   no fat    150  30 min  running\n",
      "\n",
      "[90 rows x 5 columns]\n"
     ]
    }
   ],
   "source": [
    "# your code goes here\n",
    "\n",
    "# Load the dataset\n",
    "exercise = sns.load_dataset(\"exercise\")\n",
    "\n",
    "# Remove the unnamed column\n",
    "exercise = exercise.loc[:, ~exercise.columns.str.contains('^Unnamed')]\n",
    "\n",
    "# Print the DataFrame to verify\n",
    "print(exercise)"
   ]
  },
  {
   "cell_type": "markdown",
   "metadata": {},
   "source": [
    "**B. The `time` column is a string type. Use the `.str.split()` function to extract the numbers out of this column. Save these numbers as a new column called `minutes`. What is the data type of this new column? Should it be transformed to a different data type? If so, perform the transformation.**\n"
   ]
  },
  {
   "cell_type": "code",
   "execution_count": 6,
   "metadata": {},
   "outputs": [
    {
     "name": "stdout",
     "output_type": "stream",
     "text": [
      "object\n",
      "int32\n",
      "   id     diet  pulse    time  kind  minutes\n",
      "0   1  low fat     85   1 min  rest        1\n",
      "1   1  low fat     85  15 min  rest       15\n",
      "2   1  low fat     88  30 min  rest       30\n",
      "3   2  low fat     90   1 min  rest        1\n",
      "4   2  low fat     92  15 min  rest       15\n"
     ]
    }
   ],
   "source": [
    "# your code goes here\n",
    "\n",
    "# Split the 'time' column and extract the numbers\n",
    "exercise['minutes'] = exercise['time'].str.split().str[0]\n",
    "\n",
    "# Check the data type of the new 'minutes' column\n",
    "print(exercise['minutes'].dtype)\n",
    "\n",
    "# If the data type is string, transform it to integer\n",
    "if exercise['minutes'].dtype == 'object':\n",
    "    exercise['minutes'] = exercise['minutes'].astype(int)\n",
    "\n",
    "# Verify the transformation\n",
    "print(exercise['minutes'].dtype)\n",
    "\n",
    "# Print the updated DataFrame\n",
    "print(exercise.head())"
   ]
  },
  {
   "cell_type": "markdown",
   "metadata": {},
   "source": [
    "**C. Since we have the `minutes` column, drop the original `time` column from the DataFrame**"
   ]
  },
  {
   "cell_type": "code",
   "execution_count": 7,
   "metadata": {},
   "outputs": [
    {
     "name": "stdout",
     "output_type": "stream",
     "text": [
      "   id     diet  pulse  kind  minutes\n",
      "0   1  low fat     85  rest        1\n",
      "1   1  low fat     85  rest       15\n",
      "2   1  low fat     88  rest       30\n",
      "3   2  low fat     90  rest        1\n",
      "4   2  low fat     92  rest       15\n"
     ]
    }
   ],
   "source": [
    "# your code goes here\n",
    "\n",
    "# Drop the original 'time' column\n",
    "exercise = exercise.drop(columns=['time'])\n",
    "\n",
    "# Print the updated DataFrame to verify\n",
    "print(exercise.head())"
   ]
  },
  {
   "cell_type": "markdown",
   "metadata": {},
   "source": [
    "**D. Subset the DataFrame to only contain entries where the `minutes` column is greater than `10`. Use the `.min()` function to determine what is the minimum pulse is for activities that lasted more than `10` minutes**"
   ]
  },
  {
   "cell_type": "code",
   "execution_count": 8,
   "metadata": {},
   "outputs": [
    {
     "name": "stdout",
     "output_type": "stream",
     "text": [
      "The minimum pulse for activities lasting more than 10 minutes is: 82\n"
     ]
    }
   ],
   "source": [
    "# your code goes here\n",
    "\n",
    "subset_exercise = exercise[exercise['minutes'] > 10]\n",
    "\n",
    "# Determine the minimum pulse for activities that lasted more than 10 minutes\n",
    "min_pulse = subset_exercise['pulse'].min()\n",
    "\n",
    "# Print the minimum pulse\n",
    "print(f\"The minimum pulse for activities lasting more than 10 minutes is: {min_pulse}\")"
   ]
  },
  {
   "cell_type": "markdown",
   "metadata": {},
   "source": [
    "**E. Use the `groupby()` function to group the `kind` column. Then aggregate to find the mean pulse for each `kind` of activity in the DataFrame**"
   ]
  },
  {
   "cell_type": "code",
   "execution_count": 9,
   "metadata": {
    "scrolled": true
   },
   "outputs": [
    {
     "name": "stdout",
     "output_type": "stream",
     "text": [
      "kind\n",
      "rest        90.833333\n",
      "walking     95.200000\n",
      "running    113.066667\n",
      "Name: pulse, dtype: float64\n"
     ]
    }
   ],
   "source": [
    "# your code goes here\n",
    "\n",
    "# Group by the 'kind' column and aggregate to find the mean pulse for each kind of activity\n",
    "mean_pulse_by_kind = exercise.groupby('kind')['pulse'].mean()\n",
    "\n",
    "# Print the result\n",
    "print(mean_pulse_by_kind)"
   ]
  },
  {
   "cell_type": "markdown",
   "metadata": {},
   "source": [
    "**F. Save the DataFrame as a CSV file named `assignment.csv`. Make sure that the `index` argument is set to `False`**"
   ]
  },
  {
   "cell_type": "code",
   "execution_count": 12,
   "metadata": {},
   "outputs": [],
   "source": [
    "# your code goes here\n",
    "\n",
    "exercise.to_csv('assignment.csv', index=False)\n"
   ]
  }
 ],
 "metadata": {
  "kernelspec": {
   "display_name": "Python 3 (ipykernel)",
   "language": "python",
   "name": "python3"
  },
  "language_info": {
   "codemirror_mode": {
    "name": "ipython",
    "version": 3
   },
   "file_extension": ".py",
   "mimetype": "text/x-python",
   "name": "python",
   "nbconvert_exporter": "python",
   "pygments_lexer": "ipython3",
   "version": "3.9.13"
  }
 },
 "nbformat": 4,
 "nbformat_minor": 4
}
